{
 "cells": [
  {
   "cell_type": "markdown",
   "metadata": {},
   "source": [
    "# EDA & Training Template\n",
    "Follow the README steps. This notebook is here if you prefer interactive exploration.\n",
    "1. Generate demo data (`scripts/make_demo_data.py`)\n",
    "2. Run feature engineering, dimensionality reduction\n",
    "3. Train XGB/LSTM/TFT and evaluate\n"
   ]
  }
 ],
 "metadata": {"kernelspec": {"display_name": "Python 3", "language": "python", "name": "python3"}},
 "nbformat": 4,
 "nbformat_minor": 2
}